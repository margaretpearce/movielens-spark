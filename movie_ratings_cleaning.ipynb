{
 "cells": [
  {
   "cell_type": "code",
   "execution_count": 1,
   "metadata": {
    "collapsed": false
   },
   "outputs": [],
   "source": [
    "import pandas as pd\n",
    "import seaborn as sns\n",
    "import numpy as np"
   ]
  },
  {
   "cell_type": "code",
   "execution_count": 25,
   "metadata": {
    "collapsed": true
   },
   "outputs": [],
   "source": [
    "%matplotlib inline"
   ]
  },
  {
   "cell_type": "code",
   "execution_count": 2,
   "metadata": {
    "collapsed": false
   },
   "outputs": [
    {
     "data": {
      "text/html": [
       "<div>\n",
       "<table border=\"1\" class=\"dataframe\">\n",
       "  <thead>\n",
       "    <tr style=\"text-align: right;\">\n",
       "      <th></th>\n",
       "      <th>Unnamed: 0</th>\n",
       "      <th>movieId</th>\n",
       "      <th>avgRating</th>\n",
       "      <th>numRatings</th>\n",
       "      <th>title</th>\n",
       "      <th>genres</th>\n",
       "      <th>genre_fantasy</th>\n",
       "      <th>genre_adventure</th>\n",
       "      <th>genre_nogenreslisted</th>\n",
       "      <th>genre_comedy</th>\n",
       "      <th>...</th>\n",
       "      <th>genre_action</th>\n",
       "      <th>genre_documentary</th>\n",
       "      <th>genre_imax</th>\n",
       "      <th>genre_drama</th>\n",
       "      <th>genre_animation</th>\n",
       "      <th>genre_horror</th>\n",
       "      <th>genre_crime</th>\n",
       "      <th>genre_war</th>\n",
       "      <th>genre_children</th>\n",
       "      <th>year</th>\n",
       "    </tr>\n",
       "  </thead>\n",
       "  <tbody>\n",
       "    <tr>\n",
       "      <th>0</th>\n",
       "      <td>0</td>\n",
       "      <td>296</td>\n",
       "      <td>4.174231</td>\n",
       "      <td>67310</td>\n",
       "      <td>Pulp Fiction (1994)</td>\n",
       "      <td>Comedy|Crime|Drama|Thriller</td>\n",
       "      <td>0</td>\n",
       "      <td>0</td>\n",
       "      <td>0</td>\n",
       "      <td>1</td>\n",
       "      <td>...</td>\n",
       "      <td>0</td>\n",
       "      <td>0</td>\n",
       "      <td>0</td>\n",
       "      <td>1</td>\n",
       "      <td>0</td>\n",
       "      <td>0</td>\n",
       "      <td>1</td>\n",
       "      <td>0</td>\n",
       "      <td>0</td>\n",
       "      <td>1994</td>\n",
       "    </tr>\n",
       "    <tr>\n",
       "      <th>1</th>\n",
       "      <td>1</td>\n",
       "      <td>1090</td>\n",
       "      <td>3.919977</td>\n",
       "      <td>15808</td>\n",
       "      <td>Platoon (1986)</td>\n",
       "      <td>Drama|War</td>\n",
       "      <td>0</td>\n",
       "      <td>0</td>\n",
       "      <td>0</td>\n",
       "      <td>0</td>\n",
       "      <td>...</td>\n",
       "      <td>0</td>\n",
       "      <td>0</td>\n",
       "      <td>0</td>\n",
       "      <td>1</td>\n",
       "      <td>0</td>\n",
       "      <td>0</td>\n",
       "      <td>0</td>\n",
       "      <td>1</td>\n",
       "      <td>0</td>\n",
       "      <td>1986</td>\n",
       "    </tr>\n",
       "    <tr>\n",
       "      <th>2</th>\n",
       "      <td>2</td>\n",
       "      <td>3959</td>\n",
       "      <td>3.699373</td>\n",
       "      <td>2869</td>\n",
       "      <td>Time Machine, The (1960)</td>\n",
       "      <td>Action|Adventure|Sci-Fi</td>\n",
       "      <td>0</td>\n",
       "      <td>1</td>\n",
       "      <td>0</td>\n",
       "      <td>0</td>\n",
       "      <td>...</td>\n",
       "      <td>1</td>\n",
       "      <td>0</td>\n",
       "      <td>0</td>\n",
       "      <td>0</td>\n",
       "      <td>0</td>\n",
       "      <td>0</td>\n",
       "      <td>0</td>\n",
       "      <td>0</td>\n",
       "      <td>0</td>\n",
       "      <td>1960</td>\n",
       "    </tr>\n",
       "    <tr>\n",
       "      <th>3</th>\n",
       "      <td>3</td>\n",
       "      <td>2294</td>\n",
       "      <td>3.303208</td>\n",
       "      <td>10163</td>\n",
       "      <td>Antz (1998)</td>\n",
       "      <td>Adventure|Animation|Children|Comedy|Fantasy</td>\n",
       "      <td>1</td>\n",
       "      <td>1</td>\n",
       "      <td>0</td>\n",
       "      <td>1</td>\n",
       "      <td>...</td>\n",
       "      <td>0</td>\n",
       "      <td>0</td>\n",
       "      <td>0</td>\n",
       "      <td>0</td>\n",
       "      <td>1</td>\n",
       "      <td>0</td>\n",
       "      <td>0</td>\n",
       "      <td>0</td>\n",
       "      <td>1</td>\n",
       "      <td>1998</td>\n",
       "    </tr>\n",
       "    <tr>\n",
       "      <th>4</th>\n",
       "      <td>4</td>\n",
       "      <td>6731</td>\n",
       "      <td>3.557118</td>\n",
       "      <td>1173</td>\n",
       "      <td>Day of the Dead (1985)</td>\n",
       "      <td>Horror|Sci-Fi|Thriller</td>\n",
       "      <td>0</td>\n",
       "      <td>0</td>\n",
       "      <td>0</td>\n",
       "      <td>0</td>\n",
       "      <td>...</td>\n",
       "      <td>0</td>\n",
       "      <td>0</td>\n",
       "      <td>0</td>\n",
       "      <td>0</td>\n",
       "      <td>0</td>\n",
       "      <td>1</td>\n",
       "      <td>0</td>\n",
       "      <td>0</td>\n",
       "      <td>0</td>\n",
       "      <td>1985</td>\n",
       "    </tr>\n",
       "  </tbody>\n",
       "</table>\n",
       "<p>5 rows × 27 columns</p>\n",
       "</div>"
      ],
      "text/plain": [
       "   Unnamed: 0  movieId  avgRating  numRatings                     title  \\\n",
       "0           0      296   4.174231       67310       Pulp Fiction (1994)   \n",
       "1           1     1090   3.919977       15808            Platoon (1986)   \n",
       "2           2     3959   3.699373        2869  Time Machine, The (1960)   \n",
       "3           3     2294   3.303208       10163               Antz (1998)   \n",
       "4           4     6731   3.557118        1173    Day of the Dead (1985)   \n",
       "\n",
       "                                        genres  genre_fantasy  \\\n",
       "0                  Comedy|Crime|Drama|Thriller              0   \n",
       "1                                    Drama|War              0   \n",
       "2                      Action|Adventure|Sci-Fi              0   \n",
       "3  Adventure|Animation|Children|Comedy|Fantasy              1   \n",
       "4                       Horror|Sci-Fi|Thriller              0   \n",
       "\n",
       "   genre_adventure  genre_nogenreslisted  genre_comedy  ...   genre_action  \\\n",
       "0                0                     0             1  ...              0   \n",
       "1                0                     0             0  ...              0   \n",
       "2                1                     0             0  ...              1   \n",
       "3                1                     0             1  ...              0   \n",
       "4                0                     0             0  ...              0   \n",
       "\n",
       "   genre_documentary  genre_imax  genre_drama  genre_animation  genre_horror  \\\n",
       "0                  0           0            1                0             0   \n",
       "1                  0           0            1                0             0   \n",
       "2                  0           0            0                0             0   \n",
       "3                  0           0            0                1             0   \n",
       "4                  0           0            0                0             1   \n",
       "\n",
       "   genre_crime  genre_war  genre_children  year  \n",
       "0            1          0               0  1994  \n",
       "1            0          1               0  1986  \n",
       "2            0          0               0  1960  \n",
       "3            0          0               1  1998  \n",
       "4            0          0               0  1985  \n",
       "\n",
       "[5 rows x 27 columns]"
      ]
     },
     "execution_count": 2,
     "metadata": {},
     "output_type": "execute_result"
    }
   ],
   "source": [
    "data_raw = pd.read_csv(\"movies_pandas.csv\")\n",
    "data_raw.head()"
   ]
  },
  {
   "cell_type": "code",
   "execution_count": 3,
   "metadata": {
    "collapsed": false
   },
   "outputs": [
    {
     "data": {
      "text/plain": [
       "Index(['Unnamed: 0', 'movieId', 'avgRating', 'numRatings', 'title', 'genres',\n",
       "       'genre_fantasy', 'genre_adventure', 'genre_nogenreslisted',\n",
       "       'genre_comedy', 'genre_film-noir', 'genre_musical', 'genre_romance',\n",
       "       'genre_western', 'genre_thriller', 'genre_mystery', 'genre_sci-fi',\n",
       "       'genre_action', 'genre_documentary', 'genre_imax', 'genre_drama',\n",
       "       'genre_animation', 'genre_horror', 'genre_crime', 'genre_war',\n",
       "       'genre_children', 'year'],\n",
       "      dtype='object')"
      ]
     },
     "execution_count": 3,
     "metadata": {},
     "output_type": "execute_result"
    }
   ],
   "source": [
    "data_raw.columns"
   ]
  },
  {
   "cell_type": "code",
   "execution_count": 4,
   "metadata": {
    "collapsed": false
   },
   "outputs": [
    {
     "data": {
      "text/html": [
       "<div>\n",
       "<table border=\"1\" class=\"dataframe\">\n",
       "  <thead>\n",
       "    <tr style=\"text-align: right;\">\n",
       "      <th></th>\n",
       "      <th>movieId</th>\n",
       "      <th>avgRating</th>\n",
       "      <th>numRatings</th>\n",
       "      <th>title</th>\n",
       "      <th>genre_fantasy</th>\n",
       "      <th>genre_adventure</th>\n",
       "      <th>genre_nogenreslisted</th>\n",
       "      <th>genre_comedy</th>\n",
       "      <th>genre_film-noir</th>\n",
       "      <th>genre_musical</th>\n",
       "      <th>...</th>\n",
       "      <th>genre_action</th>\n",
       "      <th>genre_documentary</th>\n",
       "      <th>genre_imax</th>\n",
       "      <th>genre_drama</th>\n",
       "      <th>genre_animation</th>\n",
       "      <th>genre_horror</th>\n",
       "      <th>genre_crime</th>\n",
       "      <th>genre_war</th>\n",
       "      <th>genre_children</th>\n",
       "      <th>year</th>\n",
       "    </tr>\n",
       "  </thead>\n",
       "  <tbody>\n",
       "    <tr>\n",
       "      <th>0</th>\n",
       "      <td>296</td>\n",
       "      <td>4.174231</td>\n",
       "      <td>67310</td>\n",
       "      <td>Pulp Fiction (1994)</td>\n",
       "      <td>0</td>\n",
       "      <td>0</td>\n",
       "      <td>0</td>\n",
       "      <td>1</td>\n",
       "      <td>0</td>\n",
       "      <td>0</td>\n",
       "      <td>...</td>\n",
       "      <td>0</td>\n",
       "      <td>0</td>\n",
       "      <td>0</td>\n",
       "      <td>1</td>\n",
       "      <td>0</td>\n",
       "      <td>0</td>\n",
       "      <td>1</td>\n",
       "      <td>0</td>\n",
       "      <td>0</td>\n",
       "      <td>1994</td>\n",
       "    </tr>\n",
       "    <tr>\n",
       "      <th>1</th>\n",
       "      <td>1090</td>\n",
       "      <td>3.919977</td>\n",
       "      <td>15808</td>\n",
       "      <td>Platoon (1986)</td>\n",
       "      <td>0</td>\n",
       "      <td>0</td>\n",
       "      <td>0</td>\n",
       "      <td>0</td>\n",
       "      <td>0</td>\n",
       "      <td>0</td>\n",
       "      <td>...</td>\n",
       "      <td>0</td>\n",
       "      <td>0</td>\n",
       "      <td>0</td>\n",
       "      <td>1</td>\n",
       "      <td>0</td>\n",
       "      <td>0</td>\n",
       "      <td>0</td>\n",
       "      <td>1</td>\n",
       "      <td>0</td>\n",
       "      <td>1986</td>\n",
       "    </tr>\n",
       "    <tr>\n",
       "      <th>2</th>\n",
       "      <td>3959</td>\n",
       "      <td>3.699373</td>\n",
       "      <td>2869</td>\n",
       "      <td>Time Machine, The (1960)</td>\n",
       "      <td>0</td>\n",
       "      <td>1</td>\n",
       "      <td>0</td>\n",
       "      <td>0</td>\n",
       "      <td>0</td>\n",
       "      <td>0</td>\n",
       "      <td>...</td>\n",
       "      <td>1</td>\n",
       "      <td>0</td>\n",
       "      <td>0</td>\n",
       "      <td>0</td>\n",
       "      <td>0</td>\n",
       "      <td>0</td>\n",
       "      <td>0</td>\n",
       "      <td>0</td>\n",
       "      <td>0</td>\n",
       "      <td>1960</td>\n",
       "    </tr>\n",
       "    <tr>\n",
       "      <th>3</th>\n",
       "      <td>2294</td>\n",
       "      <td>3.303208</td>\n",
       "      <td>10163</td>\n",
       "      <td>Antz (1998)</td>\n",
       "      <td>1</td>\n",
       "      <td>1</td>\n",
       "      <td>0</td>\n",
       "      <td>1</td>\n",
       "      <td>0</td>\n",
       "      <td>0</td>\n",
       "      <td>...</td>\n",
       "      <td>0</td>\n",
       "      <td>0</td>\n",
       "      <td>0</td>\n",
       "      <td>0</td>\n",
       "      <td>1</td>\n",
       "      <td>0</td>\n",
       "      <td>0</td>\n",
       "      <td>0</td>\n",
       "      <td>1</td>\n",
       "      <td>1998</td>\n",
       "    </tr>\n",
       "    <tr>\n",
       "      <th>4</th>\n",
       "      <td>6731</td>\n",
       "      <td>3.557118</td>\n",
       "      <td>1173</td>\n",
       "      <td>Day of the Dead (1985)</td>\n",
       "      <td>0</td>\n",
       "      <td>0</td>\n",
       "      <td>0</td>\n",
       "      <td>0</td>\n",
       "      <td>0</td>\n",
       "      <td>0</td>\n",
       "      <td>...</td>\n",
       "      <td>0</td>\n",
       "      <td>0</td>\n",
       "      <td>0</td>\n",
       "      <td>0</td>\n",
       "      <td>0</td>\n",
       "      <td>1</td>\n",
       "      <td>0</td>\n",
       "      <td>0</td>\n",
       "      <td>0</td>\n",
       "      <td>1985</td>\n",
       "    </tr>\n",
       "  </tbody>\n",
       "</table>\n",
       "<p>5 rows × 25 columns</p>\n",
       "</div>"
      ],
      "text/plain": [
       "   movieId  avgRating  numRatings                     title  genre_fantasy  \\\n",
       "0      296   4.174231       67310       Pulp Fiction (1994)              0   \n",
       "1     1090   3.919977       15808            Platoon (1986)              0   \n",
       "2     3959   3.699373        2869  Time Machine, The (1960)              0   \n",
       "3     2294   3.303208       10163               Antz (1998)              1   \n",
       "4     6731   3.557118        1173    Day of the Dead (1985)              0   \n",
       "\n",
       "   genre_adventure  genre_nogenreslisted  genre_comedy  genre_film-noir  \\\n",
       "0                0                     0             1                0   \n",
       "1                0                     0             0                0   \n",
       "2                1                     0             0                0   \n",
       "3                1                     0             1                0   \n",
       "4                0                     0             0                0   \n",
       "\n",
       "   genre_musical  ...   genre_action  genre_documentary  genre_imax  \\\n",
       "0              0  ...              0                  0           0   \n",
       "1              0  ...              0                  0           0   \n",
       "2              0  ...              1                  0           0   \n",
       "3              0  ...              0                  0           0   \n",
       "4              0  ...              0                  0           0   \n",
       "\n",
       "   genre_drama  genre_animation  genre_horror  genre_crime  genre_war  \\\n",
       "0            1                0             0            1          0   \n",
       "1            1                0             0            0          1   \n",
       "2            0                0             0            0          0   \n",
       "3            0                1             0            0          0   \n",
       "4            0                0             1            0          0   \n",
       "\n",
       "   genre_children  year  \n",
       "0               0  1994  \n",
       "1               0  1986  \n",
       "2               0  1960  \n",
       "3               1  1998  \n",
       "4               0  1985  \n",
       "\n",
       "[5 rows x 25 columns]"
      ]
     },
     "execution_count": 4,
     "metadata": {},
     "output_type": "execute_result"
    }
   ],
   "source": [
    "data_select = data_raw.drop(['Unnamed: 0', 'genres'], axis=1)\n",
    "data_select.head()"
   ]
  },
  {
   "cell_type": "code",
   "execution_count": 5,
   "metadata": {
    "collapsed": false
   },
   "outputs": [
    {
     "data": {
      "text/html": [
       "<div>\n",
       "<table border=\"1\" class=\"dataframe\">\n",
       "  <thead>\n",
       "    <tr style=\"text-align: right;\">\n",
       "      <th></th>\n",
       "      <th>movieId</th>\n",
       "      <th>avgRating</th>\n",
       "      <th>numRatings</th>\n",
       "      <th>genre_fantasy</th>\n",
       "      <th>genre_adventure</th>\n",
       "      <th>genre_nogenreslisted</th>\n",
       "      <th>genre_comedy</th>\n",
       "      <th>genre_film-noir</th>\n",
       "      <th>genre_musical</th>\n",
       "      <th>genre_romance</th>\n",
       "      <th>...</th>\n",
       "      <th>genre_sci-fi</th>\n",
       "      <th>genre_action</th>\n",
       "      <th>genre_documentary</th>\n",
       "      <th>genre_imax</th>\n",
       "      <th>genre_drama</th>\n",
       "      <th>genre_animation</th>\n",
       "      <th>genre_horror</th>\n",
       "      <th>genre_crime</th>\n",
       "      <th>genre_war</th>\n",
       "      <th>genre_children</th>\n",
       "    </tr>\n",
       "  </thead>\n",
       "  <tbody>\n",
       "    <tr>\n",
       "      <th>count</th>\n",
       "      <td>26744.000000</td>\n",
       "      <td>26744.000000</td>\n",
       "      <td>26744.000000</td>\n",
       "      <td>26744.000000</td>\n",
       "      <td>26744.000000</td>\n",
       "      <td>26744.000000</td>\n",
       "      <td>26744.000000</td>\n",
       "      <td>26744.000000</td>\n",
       "      <td>26744.000000</td>\n",
       "      <td>26744.000000</td>\n",
       "      <td>...</td>\n",
       "      <td>26744.000000</td>\n",
       "      <td>26744.000000</td>\n",
       "      <td>26744.000000</td>\n",
       "      <td>26744.000000</td>\n",
       "      <td>26744.000000</td>\n",
       "      <td>26744.000000</td>\n",
       "      <td>26744.000000</td>\n",
       "      <td>26744.000000</td>\n",
       "      <td>26744.000000</td>\n",
       "      <td>26744.000000</td>\n",
       "    </tr>\n",
       "    <tr>\n",
       "      <th>mean</th>\n",
       "      <td>58789.612436</td>\n",
       "      <td>3.133200</td>\n",
       "      <td>747.841123</td>\n",
       "      <td>0.052273</td>\n",
       "      <td>0.085515</td>\n",
       "      <td>0.009049</td>\n",
       "      <td>0.307807</td>\n",
       "      <td>0.012040</td>\n",
       "      <td>0.037990</td>\n",
       "      <td>0.150651</td>\n",
       "      <td>...</td>\n",
       "      <td>0.064313</td>\n",
       "      <td>0.129599</td>\n",
       "      <td>0.089403</td>\n",
       "      <td>0.007291</td>\n",
       "      <td>0.488409</td>\n",
       "      <td>0.037952</td>\n",
       "      <td>0.096844</td>\n",
       "      <td>0.108024</td>\n",
       "      <td>0.043860</td>\n",
       "      <td>0.041804</td>\n",
       "    </tr>\n",
       "    <tr>\n",
       "      <th>std</th>\n",
       "      <td>44159.344871</td>\n",
       "      <td>0.664084</td>\n",
       "      <td>3085.818268</td>\n",
       "      <td>0.222582</td>\n",
       "      <td>0.279651</td>\n",
       "      <td>0.094695</td>\n",
       "      <td>0.461595</td>\n",
       "      <td>0.109067</td>\n",
       "      <td>0.191175</td>\n",
       "      <td>0.357715</td>\n",
       "      <td>...</td>\n",
       "      <td>0.245315</td>\n",
       "      <td>0.335868</td>\n",
       "      <td>0.285330</td>\n",
       "      <td>0.085079</td>\n",
       "      <td>0.499875</td>\n",
       "      <td>0.191085</td>\n",
       "      <td>0.295751</td>\n",
       "      <td>0.310417</td>\n",
       "      <td>0.204788</td>\n",
       "      <td>0.200144</td>\n",
       "    </tr>\n",
       "    <tr>\n",
       "      <th>min</th>\n",
       "      <td>1.000000</td>\n",
       "      <td>0.500000</td>\n",
       "      <td>1.000000</td>\n",
       "      <td>0.000000</td>\n",
       "      <td>0.000000</td>\n",
       "      <td>0.000000</td>\n",
       "      <td>0.000000</td>\n",
       "      <td>0.000000</td>\n",
       "      <td>0.000000</td>\n",
       "      <td>0.000000</td>\n",
       "      <td>...</td>\n",
       "      <td>0.000000</td>\n",
       "      <td>0.000000</td>\n",
       "      <td>0.000000</td>\n",
       "      <td>0.000000</td>\n",
       "      <td>0.000000</td>\n",
       "      <td>0.000000</td>\n",
       "      <td>0.000000</td>\n",
       "      <td>0.000000</td>\n",
       "      <td>0.000000</td>\n",
       "      <td>0.000000</td>\n",
       "    </tr>\n",
       "    <tr>\n",
       "      <th>25%</th>\n",
       "      <td>6795.750000</td>\n",
       "      <td>2.800000</td>\n",
       "      <td>3.000000</td>\n",
       "      <td>0.000000</td>\n",
       "      <td>0.000000</td>\n",
       "      <td>0.000000</td>\n",
       "      <td>0.000000</td>\n",
       "      <td>0.000000</td>\n",
       "      <td>0.000000</td>\n",
       "      <td>0.000000</td>\n",
       "      <td>...</td>\n",
       "      <td>0.000000</td>\n",
       "      <td>0.000000</td>\n",
       "      <td>0.000000</td>\n",
       "      <td>0.000000</td>\n",
       "      <td>0.000000</td>\n",
       "      <td>0.000000</td>\n",
       "      <td>0.000000</td>\n",
       "      <td>0.000000</td>\n",
       "      <td>0.000000</td>\n",
       "      <td>0.000000</td>\n",
       "    </tr>\n",
       "    <tr>\n",
       "      <th>50%</th>\n",
       "      <td>65880.000000</td>\n",
       "      <td>3.235294</td>\n",
       "      <td>18.000000</td>\n",
       "      <td>0.000000</td>\n",
       "      <td>0.000000</td>\n",
       "      <td>0.000000</td>\n",
       "      <td>0.000000</td>\n",
       "      <td>0.000000</td>\n",
       "      <td>0.000000</td>\n",
       "      <td>0.000000</td>\n",
       "      <td>...</td>\n",
       "      <td>0.000000</td>\n",
       "      <td>0.000000</td>\n",
       "      <td>0.000000</td>\n",
       "      <td>0.000000</td>\n",
       "      <td>0.000000</td>\n",
       "      <td>0.000000</td>\n",
       "      <td>0.000000</td>\n",
       "      <td>0.000000</td>\n",
       "      <td>0.000000</td>\n",
       "      <td>0.000000</td>\n",
       "    </tr>\n",
       "    <tr>\n",
       "      <th>75%</th>\n",
       "      <td>99110.500000</td>\n",
       "      <td>3.565217</td>\n",
       "      <td>205.000000</td>\n",
       "      <td>0.000000</td>\n",
       "      <td>0.000000</td>\n",
       "      <td>0.000000</td>\n",
       "      <td>1.000000</td>\n",
       "      <td>0.000000</td>\n",
       "      <td>0.000000</td>\n",
       "      <td>0.000000</td>\n",
       "      <td>...</td>\n",
       "      <td>0.000000</td>\n",
       "      <td>0.000000</td>\n",
       "      <td>0.000000</td>\n",
       "      <td>0.000000</td>\n",
       "      <td>1.000000</td>\n",
       "      <td>0.000000</td>\n",
       "      <td>0.000000</td>\n",
       "      <td>0.000000</td>\n",
       "      <td>0.000000</td>\n",
       "      <td>0.000000</td>\n",
       "    </tr>\n",
       "    <tr>\n",
       "      <th>max</th>\n",
       "      <td>131262.000000</td>\n",
       "      <td>5.000000</td>\n",
       "      <td>67310.000000</td>\n",
       "      <td>1.000000</td>\n",
       "      <td>1.000000</td>\n",
       "      <td>1.000000</td>\n",
       "      <td>1.000000</td>\n",
       "      <td>1.000000</td>\n",
       "      <td>1.000000</td>\n",
       "      <td>1.000000</td>\n",
       "      <td>...</td>\n",
       "      <td>1.000000</td>\n",
       "      <td>1.000000</td>\n",
       "      <td>1.000000</td>\n",
       "      <td>1.000000</td>\n",
       "      <td>1.000000</td>\n",
       "      <td>1.000000</td>\n",
       "      <td>1.000000</td>\n",
       "      <td>1.000000</td>\n",
       "      <td>1.000000</td>\n",
       "      <td>1.000000</td>\n",
       "    </tr>\n",
       "  </tbody>\n",
       "</table>\n",
       "<p>8 rows × 23 columns</p>\n",
       "</div>"
      ],
      "text/plain": [
       "             movieId     avgRating    numRatings  genre_fantasy  \\\n",
       "count   26744.000000  26744.000000  26744.000000   26744.000000   \n",
       "mean    58789.612436      3.133200    747.841123       0.052273   \n",
       "std     44159.344871      0.664084   3085.818268       0.222582   \n",
       "min         1.000000      0.500000      1.000000       0.000000   \n",
       "25%      6795.750000      2.800000      3.000000       0.000000   \n",
       "50%     65880.000000      3.235294     18.000000       0.000000   \n",
       "75%     99110.500000      3.565217    205.000000       0.000000   \n",
       "max    131262.000000      5.000000  67310.000000       1.000000   \n",
       "\n",
       "       genre_adventure  genre_nogenreslisted  genre_comedy  genre_film-noir  \\\n",
       "count     26744.000000          26744.000000  26744.000000     26744.000000   \n",
       "mean          0.085515              0.009049      0.307807         0.012040   \n",
       "std           0.279651              0.094695      0.461595         0.109067   \n",
       "min           0.000000              0.000000      0.000000         0.000000   \n",
       "25%           0.000000              0.000000      0.000000         0.000000   \n",
       "50%           0.000000              0.000000      0.000000         0.000000   \n",
       "75%           0.000000              0.000000      1.000000         0.000000   \n",
       "max           1.000000              1.000000      1.000000         1.000000   \n",
       "\n",
       "       genre_musical  genre_romance       ...        genre_sci-fi  \\\n",
       "count   26744.000000   26744.000000       ...        26744.000000   \n",
       "mean        0.037990       0.150651       ...            0.064313   \n",
       "std         0.191175       0.357715       ...            0.245315   \n",
       "min         0.000000       0.000000       ...            0.000000   \n",
       "25%         0.000000       0.000000       ...            0.000000   \n",
       "50%         0.000000       0.000000       ...            0.000000   \n",
       "75%         0.000000       0.000000       ...            0.000000   \n",
       "max         1.000000       1.000000       ...            1.000000   \n",
       "\n",
       "       genre_action  genre_documentary    genre_imax   genre_drama  \\\n",
       "count  26744.000000       26744.000000  26744.000000  26744.000000   \n",
       "mean       0.129599           0.089403      0.007291      0.488409   \n",
       "std        0.335868           0.285330      0.085079      0.499875   \n",
       "min        0.000000           0.000000      0.000000      0.000000   \n",
       "25%        0.000000           0.000000      0.000000      0.000000   \n",
       "50%        0.000000           0.000000      0.000000      0.000000   \n",
       "75%        0.000000           0.000000      0.000000      1.000000   \n",
       "max        1.000000           1.000000      1.000000      1.000000   \n",
       "\n",
       "       genre_animation  genre_horror   genre_crime     genre_war  \\\n",
       "count     26744.000000  26744.000000  26744.000000  26744.000000   \n",
       "mean          0.037952      0.096844      0.108024      0.043860   \n",
       "std           0.191085      0.295751      0.310417      0.204788   \n",
       "min           0.000000      0.000000      0.000000      0.000000   \n",
       "25%           0.000000      0.000000      0.000000      0.000000   \n",
       "50%           0.000000      0.000000      0.000000      0.000000   \n",
       "75%           0.000000      0.000000      0.000000      0.000000   \n",
       "max           1.000000      1.000000      1.000000      1.000000   \n",
       "\n",
       "       genre_children  \n",
       "count    26744.000000  \n",
       "mean         0.041804  \n",
       "std          0.200144  \n",
       "min          0.000000  \n",
       "25%          0.000000  \n",
       "50%          0.000000  \n",
       "75%          0.000000  \n",
       "max          1.000000  \n",
       "\n",
       "[8 rows x 23 columns]"
      ]
     },
     "execution_count": 5,
     "metadata": {},
     "output_type": "execute_result"
    }
   ],
   "source": [
    "data_select.describe()"
   ]
  },
  {
   "cell_type": "code",
   "execution_count": 6,
   "metadata": {
    "collapsed": false
   },
   "outputs": [
    {
     "data": {
      "text/plain": [
       "2009                        1093\n",
       "2011                         981\n",
       "2013                         976\n",
       "2012                         972\n",
       "2008                         960\n",
       "2010                         926\n",
       "2007                         885\n",
       "2006                         837\n",
       "2005                         724\n",
       "2014                         707\n",
       "2004                         696\n",
       "2002                         672\n",
       "2003                         646\n",
       "2001                         626\n",
       "2000                         609\n",
       "1998                         548\n",
       "1999                         531\n",
       "1997                         524\n",
       "1996                         506\n",
       "1995                         467\n",
       "1994                         428\n",
       "1993                         368\n",
       "1992                         332\n",
       "1988                         317\n",
       "1990                         312\n",
       "1991                         310\n",
       "1987                         307\n",
       "1989                         304\n",
       "1986                         257\n",
       "1985                         251\n",
       "                            ... \n",
       "2004\"                          1\n",
       "1901                           1\n",
       "Bicicleta, cullera, poma       1\n",
       "1975-1979                      1\n",
       "1978                           1\n",
       "Das Millionenspiel             1\n",
       "1998\"                          1\n",
       "1909                           1\n",
       "2009–                          1\n",
       "1977                           1\n",
       "1985                           1\n",
       "1984                           1\n",
       "1957                           1\n",
       "1903                           1\n",
       "1929                           1\n",
       "1893                           1\n",
       "2007-                          1\n",
       "1989                           1\n",
       "1948                           1\n",
       "1950                           1\n",
       "1899                           1\n",
       "1928                           1\n",
       "1905                           1\n",
       "1963                           1\n",
       "1956                           1\n",
       "1987                           1\n",
       "1949                           1\n",
       "1891                           1\n",
       "1937                           1\n",
       "1962                           1\n",
       "Name: year, dtype: int64"
      ]
     },
     "execution_count": 6,
     "metadata": {},
     "output_type": "execute_result"
    }
   ],
   "source": [
    "data_select['year'].value_counts()"
   ]
  },
  {
   "cell_type": "code",
   "execution_count": 7,
   "metadata": {
    "collapsed": false
   },
   "outputs": [],
   "source": [
    "data_select['year_truncated'] = data_select['year'].map(lambda x: str(x)[:4])"
   ]
  },
  {
   "cell_type": "code",
   "execution_count": 8,
   "metadata": {
    "collapsed": false
   },
   "outputs": [
    {
     "data": {
      "text/plain": [
       "2009    1102\n",
       "2011    1006\n",
       "2012     997\n",
       "2013     990\n",
       "2008     968\n",
       "2010     946\n",
       "2007     894\n",
       "2006     844\n",
       "2005     732\n",
       "2014     710\n",
       "2004     700\n",
       "2002     676\n",
       "2003     648\n",
       "2001     629\n",
       "2000     609\n",
       "1998     552\n",
       "1999     536\n",
       "1997     525\n",
       "1996     506\n",
       "1995     472\n",
       "1994     429\n",
       "1993     370\n",
       "1992     332\n",
       "1988     320\n",
       "1990     314\n",
       "1991     310\n",
       "1987     308\n",
       "1989     305\n",
       "1986     261\n",
       "1985     252\n",
       "        ... \n",
       "1924      28\n",
       "1921      27\n",
       "1922      24\n",
       "1920      19\n",
       "nan       17\n",
       "1919      17\n",
       "1915      17\n",
       "1923      16\n",
       "1916      15\n",
       "1914      12\n",
       "1917      12\n",
       "1918       8\n",
       "1912       5\n",
       "1913       5\n",
       "1898       5\n",
       "1909       3\n",
       "1910       3\n",
       "1895       2\n",
       "1894       2\n",
       "1896       2\n",
       "1891       1\n",
       "Bici       1\n",
       "1899       1\n",
       "1905       1\n",
       "1901       1\n",
       "1900       1\n",
       "1902       1\n",
       "1893       1\n",
       "1903       1\n",
       "Das        1\n",
       "Name: year_truncated, dtype: int64"
      ]
     },
     "execution_count": 8,
     "metadata": {},
     "output_type": "execute_result"
    }
   ],
   "source": [
    "data_select['year_truncated'].value_counts()"
   ]
  },
  {
   "cell_type": "code",
   "execution_count": 9,
   "metadata": {
    "collapsed": false
   },
   "outputs": [],
   "source": [
    "data_select.loc[data_select[\"year_truncated\"].str.contains(\"Bici|Das|nan\") == True, \"year_truncated\"] = np.nan"
   ]
  },
  {
   "cell_type": "code",
   "execution_count": 10,
   "metadata": {
    "collapsed": false
   },
   "outputs": [
    {
     "data": {
      "text/plain": [
       "2009    1102\n",
       "2011    1006\n",
       "2012     997\n",
       "2013     990\n",
       "2008     968\n",
       "2010     946\n",
       "2007     894\n",
       "2006     844\n",
       "2005     732\n",
       "2014     710\n",
       "2004     700\n",
       "2002     676\n",
       "2003     648\n",
       "2001     629\n",
       "2000     609\n",
       "1998     552\n",
       "1999     536\n",
       "1997     525\n",
       "1996     506\n",
       "1995     472\n",
       "1994     429\n",
       "1993     370\n",
       "1992     332\n",
       "1988     320\n",
       "1990     314\n",
       "1991     310\n",
       "1987     308\n",
       "1989     305\n",
       "1986     261\n",
       "1985     252\n",
       "        ... \n",
       "1926      34\n",
       "1927      30\n",
       "1925      30\n",
       "1924      28\n",
       "1921      27\n",
       "1922      24\n",
       "1920      19\n",
       "1915      17\n",
       "1919      17\n",
       "1923      16\n",
       "1916      15\n",
       "1914      12\n",
       "1917      12\n",
       "1918       8\n",
       "1913       5\n",
       "1898       5\n",
       "1912       5\n",
       "1909       3\n",
       "1910       3\n",
       "1894       2\n",
       "1896       2\n",
       "1895       2\n",
       "1905       1\n",
       "1899       1\n",
       "1891       1\n",
       "1900       1\n",
       "1893       1\n",
       "1902       1\n",
       "1901       1\n",
       "1903       1\n",
       "Name: year_truncated, dtype: int64"
      ]
     },
     "execution_count": 10,
     "metadata": {},
     "output_type": "execute_result"
    }
   ],
   "source": [
    "data_select[\"year_truncated\"].value_counts()"
   ]
  },
  {
   "cell_type": "code",
   "execution_count": 11,
   "metadata": {
    "collapsed": false
   },
   "outputs": [
    {
     "data": {
      "text/plain": [
       "count     26725\n",
       "unique      118\n",
       "top        2009\n",
       "freq       1102\n",
       "Name: year_truncated, dtype: object"
      ]
     },
     "execution_count": 11,
     "metadata": {},
     "output_type": "execute_result"
    }
   ],
   "source": [
    "data_select['year_truncated'].describe()"
   ]
  },
  {
   "cell_type": "code",
   "execution_count": 12,
   "metadata": {
    "collapsed": false
   },
   "outputs": [
    {
     "data": {
      "text/plain": [
       "19"
      ]
     },
     "execution_count": 12,
     "metadata": {},
     "output_type": "execute_result"
    }
   ],
   "source": [
    "data_select['year_truncated'].isnull().sum()"
   ]
  },
  {
   "cell_type": "code",
   "execution_count": 16,
   "metadata": {
    "collapsed": false
   },
   "outputs": [
    {
     "data": {
      "text/plain": [
       "0"
      ]
     },
     "execution_count": 16,
     "metadata": {},
     "output_type": "execute_result"
    }
   ],
   "source": [
    "years_no_null = data_select['year_truncated'].dropna()\n",
    "years_no_null.isnull().sum()"
   ]
  },
  {
   "cell_type": "code",
   "execution_count": 17,
   "metadata": {
    "collapsed": false
   },
   "outputs": [
    {
     "data": {
      "text/plain": [
       "2009    1102\n",
       "2011    1006\n",
       "2012     997\n",
       "2013     990\n",
       "2008     968\n",
       "2010     946\n",
       "2007     894\n",
       "2006     844\n",
       "2005     732\n",
       "2014     710\n",
       "2004     700\n",
       "2002     676\n",
       "2003     648\n",
       "2001     629\n",
       "2000     609\n",
       "1998     552\n",
       "1999     536\n",
       "1997     525\n",
       "1996     506\n",
       "1995     472\n",
       "1994     429\n",
       "1993     370\n",
       "1992     332\n",
       "1988     320\n",
       "1990     314\n",
       "1991     310\n",
       "1987     308\n",
       "1989     305\n",
       "1986     261\n",
       "1985     252\n",
       "        ... \n",
       "1926      34\n",
       "1927      30\n",
       "1925      30\n",
       "1924      28\n",
       "1921      27\n",
       "1922      24\n",
       "1920      19\n",
       "1915      17\n",
       "1919      17\n",
       "1923      16\n",
       "1916      15\n",
       "1914      12\n",
       "1917      12\n",
       "1918       8\n",
       "1913       5\n",
       "1898       5\n",
       "1912       5\n",
       "1909       3\n",
       "1910       3\n",
       "1894       2\n",
       "1896       2\n",
       "1895       2\n",
       "1905       1\n",
       "1899       1\n",
       "1891       1\n",
       "1900       1\n",
       "1893       1\n",
       "1902       1\n",
       "1901       1\n",
       "1903       1\n",
       "Name: year_truncated, dtype: int64"
      ]
     },
     "execution_count": 17,
     "metadata": {},
     "output_type": "execute_result"
    }
   ],
   "source": [
    "years_no_null.value_counts()"
   ]
  },
  {
   "cell_type": "code",
   "execution_count": 27,
   "metadata": {
    "collapsed": false
   },
   "outputs": [
    {
     "data": {
      "text/plain": [
       "<matplotlib.axes._subplots.AxesSubplot at 0x10e226080>"
      ]
     },
     "execution_count": 27,
     "metadata": {},
     "output_type": "execute_result"
    },
    {
     "data": {
      "image/png": "[encoded data removed]",
      "text/plain": [
       "<matplotlib.figure.Figure at 0x10e24be80>"
      ]
     },
     "metadata": {},
     "output_type": "display_data"
    }
   ],
   "source": [
    "sns.kdeplot(years_no_null, shade=True)"
   ]
  },
  {
   "cell_type": "code",
   "execution_count": 28,
   "metadata": {
    "collapsed": false
   },
   "outputs": [
    {
     "data": {
      "text/plain": [
       "0"
      ]
     },
     "execution_count": 28,
     "metadata": {},
     "output_type": "execute_result"
    }
   ],
   "source": [
    "num_ratings = data_select['numRatings'].dropna()\n",
    "num_ratings.isnull().sum()"
   ]
  },
  {
   "cell_type": "code",
   "execution_count": 31,
   "metadata": {
    "collapsed": false
   },
   "outputs": [
    {
     "data": {
      "text/plain": [
       "<matplotlib.axes._subplots.AxesSubplot at 0x10e118ef0>"
      ]
     },
     "execution_count": 31,
     "metadata": {},
     "output_type": "execute_result"
    },
    {
     "data": {
      "image/png": "[encoded data removed]",
      "text/plain": [
       "<matplotlib.figure.Figure at 0x10e5dbac8>"
      ]
     },
     "metadata": {},
     "output_type": "display_data"
    }
   ],
   "source": [
    "sns.kdeplot(num_ratings, shade=True)"
   ]
  },
  {
   "cell_type": "code",
   "execution_count": 33,
   "metadata": {
    "collapsed": false
   },
   "outputs": [
    {
     "data": {
      "text/plain": [
       "<matplotlib.axes._subplots.AxesSubplot at 0x10e628748>"
      ]
     },
     "execution_count": 33,
     "metadata": {},
     "output_type": "execute_result"
    },
    {
     "data": {
      "image/png": "[encoded data removed]",
      "text/plain": [
       "<matplotlib.figure.Figure at 0x10e723dd8>"
      ]
     },
     "metadata": {},
     "output_type": "display_data"
    }
   ],
   "source": [
    "sns.kdeplot(data_select[\"avgRating\"], shade=True)"
   ]
  },
  {
   "cell_type": "code",
   "execution_count": 34,
   "metadata": {
    "collapsed": false
   },
   "outputs": [
    {
     "data": {
      "text/plain": [
       "<matplotlib.axes._subplots.AxesSubplot at 0x10eafc780>"
      ]
     },
     "execution_count": 34,
     "metadata": {},
     "output_type": "execute_result"
    },
    {
     "data": {
      "image/png": "[encoded data removed]",
      "text/plain": [
       "<matplotlib.figure.Figure at 0x10eb02a20>"
      ]
     },
     "metadata": {},
     "output_type": "display_data"
    }
   ],
   "source": [
    "sns.distplot(data_select[\"avgRating\"])"
   ]
  },
  {
   "cell_type": "code",
   "execution_count": null,
   "metadata": {
    "collapsed": true
   },
   "outputs": [],
   "source": []
  }
 ],
 "metadata": {
  "kernelspec": {
   "display_name": "Python 3",
   "language": "python",
   "name": "python3"
  },
  "language_info": {
   "codemirror_mode": {
    "name": "ipython",
    "version": 3
   },
   "file_extension": ".py",
   "mimetype": "text/x-python",
   "name": "python",
   "nbconvert_exporter": "python",
   "pygments_lexer": "ipython3",
   "version": "3.5.2"
  }
 },
 "nbformat": 4,
 "nbformat_minor": 1
}
